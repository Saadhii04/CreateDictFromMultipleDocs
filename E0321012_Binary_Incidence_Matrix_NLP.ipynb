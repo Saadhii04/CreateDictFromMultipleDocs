{
  "nbformat": 4,
  "nbformat_minor": 0,
  "metadata": {
    "colab": {
      "provenance": []
    },
    "kernelspec": {
      "name": "python3",
      "display_name": "Python 3"
    },
    "language_info": {
      "name": "python"
    }
  },
  "cells": [
    {
      "cell_type": "code",
      "source": [
        "def create_dictionary(documents):\n",
        "    dictionary = {}\n",
        "\n",
        "    for doc in documents:\n",
        "        words = doc.split()\n",
        "\n",
        "        for word in words:\n",
        "            word = word.strip(',.!?:;\\\"\\'()[]{}<>\\t\\n')\n",
        "\n",
        "            word = word.lower()\n",
        "\n",
        "            if word not in dictionary:\n",
        "                dictionary[word] = 1\n",
        "            else:\n",
        "                dictionary[word] += 1\n",
        "\n",
        "    return dictionary"
      ],
      "metadata": {
        "id": "Hb3XlmX0dSNK"
      },
      "execution_count": 8,
      "outputs": []
    },
    {
      "cell_type": "code",
      "source": [
        "documents = [\n",
        "    \"scikit-learn is largely written in Python, and uses NumPy extensively for high-performance linear algebra and array operations. Furthermore, some core algorithms are written in Cython to improve performance. Support vector machines are implemented by a Cython wrapper around LIBSVM; logistic regression and linear support vector machines by a similar wrapper around LIBLINEAR. In such cases, extending these methods with Python may not be possible.\",\n",
        "    \"We present iNLTK, an open-source NLP library consisting of pre-trained language models and out-of-the-box support for Data Augmentation, Textual Similarity, Sentence Embeddings, Word Embeddings, Tokenization and Text Generation in 13 Indic Languages. By using pre-trained models from iNLTK for text classification on publicly available datasets, we significantly outperform previously reported results. On these datasets, we also show that by using pre-trained models and data augmentation from iNLTK, we can achieve more than 95% of the previous best performance by using less than 10% of the training data. iNLTK is already being widely used by the community and has 40,000+ downloads, 600+ stars and 100+ forks on GitHub. The library is available at https://github.com/goru001/inltk.\",\n",
        "    \"The Natural Language Toolkit, or more commonly NLTK, is a suite of libraries and programs for symbolic and statistical natural language processing (NLP) for English written in the Python programming language. It supports classification, tokenization, stemming, tagging, parsing, and semantic reasoning functionalities.[4] It was developed by Steven Bird and Edward Loper in the Department of Computer and Information Science at the University of Pennsylvania.[5] NLTK includes graphical demonstrations and sample data. It is accompanied by a book that explains the underlying concepts behind the language processing tasks supported by the toolkit,[6] plus a cookbook.\"\n",
        "]"
      ],
      "metadata": {
        "id": "jWb7wKHYf91y"
      },
      "execution_count": 9,
      "outputs": []
    },
    {
      "cell_type": "code",
      "source": [
        "dictionary = create_dictionary(documents)"
      ],
      "metadata": {
        "id": "CPafKw42gFLh"
      },
      "execution_count": 10,
      "outputs": []
    },
    {
      "cell_type": "code",
      "source": [
        "print(\"Dictionary:\")\n",
        "print(dictionary)"
      ],
      "metadata": {
        "colab": {
          "base_uri": "https://localhost:8080/"
        },
        "id": "k1Ok3MTPgHwr",
        "outputId": "b350c2ea-c262-467d-84da-5c9fc0d1bb9d"
      },
      "execution_count": 11,
      "outputs": [
        {
          "output_type": "stream",
          "name": "stdout",
          "text": [
            "Dictionary:\n",
            "{'scikit-learn': 1, 'is': 5, 'largely': 1, 'written': 3, 'in': 6, 'python': 3, 'and': 14, 'uses': 1, 'numpy': 1, 'extensively': 1, 'for': 5, 'high-performance': 1, 'linear': 2, 'algebra': 1, 'array': 1, 'operations': 1, 'furthermore': 1, 'some': 1, 'core': 1, 'algorithms': 1, 'are': 2, 'cython': 2, 'to': 1, 'improve': 1, 'performance': 2, 'support': 3, 'vector': 2, 'machines': 2, 'implemented': 1, 'by': 9, 'a': 5, 'wrapper': 2, 'around': 2, 'libsvm': 1, 'logistic': 1, 'regression': 1, 'similar': 1, 'liblinear': 1, 'such': 1, 'cases': 1, 'extending': 1, 'these': 2, 'methods': 1, 'with': 1, 'may': 1, 'not': 1, 'be': 1, 'possible': 1, 'we': 4, 'present': 1, 'inltk': 4, 'an': 1, 'open-source': 1, 'nlp': 2, 'library': 2, 'consisting': 1, 'of': 6, 'pre-trained': 3, 'language': 5, 'models': 3, 'out-of-the-box': 1, 'data': 4, 'augmentation': 2, 'textual': 1, 'similarity': 1, 'sentence': 1, 'embeddings': 2, 'word': 1, 'tokenization': 2, 'text': 2, 'generation': 1, '13': 1, 'indic': 1, 'languages': 1, 'using': 3, 'from': 2, 'classification': 2, 'on': 3, 'publicly': 1, 'available': 2, 'datasets': 2, 'significantly': 1, 'outperform': 1, 'previously': 1, 'reported': 1, 'results': 1, 'also': 1, 'show': 1, 'that': 2, 'can': 1, 'achieve': 1, 'more': 2, 'than': 2, '95%': 1, 'the': 11, 'previous': 1, 'best': 1, 'less': 1, '10%': 1, 'training': 1, 'already': 1, 'being': 1, 'widely': 1, 'used': 1, 'community': 1, 'has': 1, '40,000+': 1, 'downloads': 1, '600+': 1, 'stars': 1, '100+': 1, 'forks': 1, 'github': 1, 'at': 2, 'https://github.com/goru001/inltk': 1, 'natural': 2, 'toolkit': 1, 'or': 1, 'commonly': 1, 'nltk': 2, 'suite': 1, 'libraries': 1, 'programs': 1, 'symbolic': 1, 'statistical': 1, 'processing': 2, 'english': 1, 'programming': 1, 'it': 3, 'supports': 1, 'stemming': 1, 'tagging': 1, 'parsing': 1, 'semantic': 1, 'reasoning': 1, 'functionalities.[4': 1, 'was': 1, 'developed': 1, 'steven': 1, 'bird': 1, 'edward': 1, 'loper': 1, 'department': 1, 'computer': 1, 'information': 1, 'science': 1, 'university': 1, 'pennsylvania.[5': 1, 'includes': 1, 'graphical': 1, 'demonstrations': 1, 'sample': 1, 'accompanied': 1, 'book': 1, 'explains': 1, 'underlying': 1, 'concepts': 1, 'behind': 1, 'tasks': 1, 'supported': 1, 'toolkit,[6': 1, 'plus': 1, 'cookbook': 1}\n"
          ]
        }
      ]
    }
  ]
}